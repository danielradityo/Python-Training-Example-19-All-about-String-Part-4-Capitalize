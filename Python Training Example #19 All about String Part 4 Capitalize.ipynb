{
 "cells": [
  {
   "cell_type": "markdown",
   "metadata": {},
   "source": [
    "# Python Training Example #19 All about String Part 4 Capitalize"
   ]
  },
  {
   "cell_type": "markdown",
   "metadata": {},
   "source": [
    "## Captilize string"
   ]
  },
  {
   "cell_type": "code",
   "execution_count": 2,
   "metadata": {},
   "outputs": [
    {
     "name": "stdout",
     "output_type": "stream",
     "text": [
      " hello! my name is daniel radityo \n",
      " hello! my name is daniel radityo \n",
      " HELLO! MY NAME IS DANIEL RADITYO \n"
     ]
    }
   ],
   "source": [
    "# Create string and then strip it\n",
    "intro = ' hello! my name is daniel Radityo '\n",
    "print(intro.capitalize()) #--> will capitalize the first of the word\n",
    "print(intro.lower()) #--> will lower all the word\n",
    "print(intro.upper()) #--> will capitalize all the word"
   ]
  },
  {
   "cell_type": "code",
   "execution_count": null,
   "metadata": {},
   "outputs": [],
   "source": []
  }
 ],
 "metadata": {
  "kernelspec": {
   "display_name": "Python 3",
   "language": "python",
   "name": "python3"
  },
  "language_info": {
   "codemirror_mode": {
    "name": "ipython",
    "version": 3
   },
   "file_extension": ".py",
   "mimetype": "text/x-python",
   "name": "python",
   "nbconvert_exporter": "python",
   "pygments_lexer": "ipython3",
   "version": "3.8.5"
  }
 },
 "nbformat": 4,
 "nbformat_minor": 4
}
